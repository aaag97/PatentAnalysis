{
 "cells": [
  {
   "cell_type": "markdown",
   "metadata": {},
   "source": [
    "This notebook uses the regex drawing method on the test set which was constructed for the model. This enables us to compare it with the ground truth as well as with the detectron2 method."
   ]
  },
  {
   "cell_type": "code",
   "execution_count": 12,
   "metadata": {},
   "outputs": [],
   "source": [
    "import os\n",
    "import re"
   ]
  },
  {
   "cell_type": "code",
   "execution_count": 13,
   "metadata": {},
   "outputs": [],
   "source": [
    "def write_list(list_, output_name):\n",
    "    \"\"\"\n",
    "    function to type list in txt file\n",
    "    Params:\n",
    "    list_ - list to write out\n",
    "    output_name - txt file to create and type out list in\n",
    "    \"\"\"\n",
    "    with open(output_name, 'w') as file:\n",
    "        for item in list_:\n",
    "            file.write('%s\\n' % item)"
   ]
  },
  {
   "cell_type": "code",
   "execution_count": 15,
   "metadata": {},
   "outputs": [],
   "source": [
    "#fetch all paths to text files of patents\n",
    "patent_txts_links = []\n",
    "for path, dirs, files in os.walk(\"/Volumes/Non-Backup_Files/GB-patents/seeded_data_for_model/new_test_text\"):\n",
    "    for f in files:\n",
    "        if f.endswith('txt'):\n",
    "            patent_txts_links.append('{}{}'.format(path, f))"
   ]
  },
  {
   "cell_type": "code",
   "execution_count": null,
   "metadata": {},
   "outputs": [],
   "source": [
    "def has_drawing_from_path(text_path):\n",
    "    \"\"\"\n",
    "    function to evaluate whether a patent has a drawing using regex\n",
    "    Args:\n",
    "    text_path - path towards text file\n",
    "    Returns:\n",
    "    boolean indicating whether the patent has a drawing or not according to the regex method\n",
    "    \"\"\"\n",
    "    with open(text_path, \"r\") as text_file:\n",
    "        text_file_str = text_file.read()\n",
    "    return re.search('[Ff][Ii][Gg]\\.[0-9]+', text_file_str) or re.search('[Ff][Ii][Gg]\\. [0-9]+', text_file_str) or re.search('drawing', text_file_str)\n",
    "\n",
    "def has_drawing(text_file_str):\n",
    "    \"\"\"\n",
    "    function to evaluate whether a patent has a drawing using regex\n",
    "    Args:\n",
    "    text - string of patent\n",
    "    Returns:\n",
    "    boolean indicating whether the patent has a drawing or not according to the regex method\n",
    "    \"\"\"\n",
    "    return re.search('[Ff][Ii][Gg]\\.[0-9]+', text_file_str) or re.search('[Ff][Ii][Gg]\\. [0-9]+', text_file_str) or re.search('drawing', text_file_str)"
   ]
  },
  {
   "cell_type": "code",
   "execution_count": 18,
   "metadata": {},
   "outputs": [],
   "source": [
    "# RUN TO GET LIST OF GB PATENTS WITH IMAGES\n",
    "patents_w_imgs = []\n",
    "for patent_txt_path_index in range(len(patent_txts_links)):\n",
    "    text_path = patent_txts_links[patent_txt_path_index]\n",
    "    if has_drawing_from_path(text_path):\n",
    "        patents_w_imgs.append(text_path)\n",
    "        \n",
    "# write_list(patents_w_imgs, 'patents_with_images_list.txt')\n",
    "# write_list(patents_w_imgs, '/Volumes/Non-Backup_Files/GB-patents/patents_with_images_list.txt')\n",
    "write_list(patents_w_imgs, '/Users/andrealphonse/Documents/UniStuff/MA/MA3/Classes/Patent Project/PatentAnalysis/drawing_classification_eval/regex_method/new_test.txt')"
   ]
  }
 ],
 "metadata": {
  "kernelspec": {
   "display_name": "patentproj",
   "language": "python",
   "name": "patentproj"
  },
  "language_info": {
   "codemirror_mode": {
    "name": "ipython",
    "version": 3
   },
   "file_extension": ".py",
   "mimetype": "text/x-python",
   "name": "python",
   "nbconvert_exporter": "python",
   "pygments_lexer": "ipython3",
   "version": "3.6.12"
  }
 },
 "nbformat": 4,
 "nbformat_minor": 4
}
