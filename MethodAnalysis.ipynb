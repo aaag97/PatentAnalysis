{
 "cells": [
  {
   "cell_type": "markdown",
   "metadata": {},
   "source": [
    "This notebook analyzes the performance of the regex method and the detectron method in classifying patents which have drawings."
   ]
  },
  {
   "cell_type": "code",
   "execution_count": 1,
   "metadata": {},
   "outputs": [],
   "source": [
    "import os\n",
    "import pandas as pd"
   ]
  },
  {
   "cell_type": "code",
   "execution_count": 2,
   "metadata": {},
   "outputs": [],
   "source": [
    "ground_truth_path = 'lists_of_patents_with_figures/ground_truth/new_test.txt'\n",
    "regex_method_path = 'lists_of_patents_with_figures/regex_method/new_test.txt'\n",
    "detectron_method_path = 'lists_of_patents_with_figures/detectron_method/new_test.txt'"
   ]
  },
  {
   "cell_type": "code",
   "execution_count": 3,
   "metadata": {},
   "outputs": [],
   "source": [
    "ground_truth = []\n",
    "regex_method = []\n",
    "detectron_method = []\n",
    "\n",
    "with open(ground_truth_path, 'r') as f:\n",
    "    for line in f:\n",
    "        ground_truth.append(line.replace('\\n', ''))\n",
    "        \n",
    "with open(regex_method_path, 'r') as f:\n",
    "    for line in f:\n",
    "        regex_method.append(line.replace('\\n', '').split('/')[-1].split('.')[0])\n",
    "\n",
    "with open(detectron_method_path, 'r') as f:\n",
    "    for line in f:\n",
    "        detectron_method.append(line.replace('\\n', ''))\n",
    "all_patents = os.listdir('/Volumes/Non-Backup_Files/GB-patents/seeded_data_for_model/new_test')"
   ]
  },
  {
   "cell_type": "code",
   "execution_count": 4,
   "metadata": {},
   "outputs": [],
   "source": [
    "def get_label(row, list_, label):\n",
    "    \"\"\"\n",
    "    function to add a column to a given pandas dataframe\n",
    "    Args:\n",
    "    row - a given row where we want to add the column\n",
    "    list_ - if the column 'Patent Number' is in list_, the label is 'yes', else it is 'no'\n",
    "    label - name of label to add as column\n",
    "    Returns:\n",
    "    row - the row with the added column\n",
    "    \"\"\"\n",
    "    if row['Patent Number'] in list_:\n",
    "        row[label] = 'yes'\n",
    "    else:\n",
    "        row[label] = 'no'\n",
    "    return row\n",
    "\n",
    "def get_real_label(row):\n",
    "    \"\"\"\n",
    "    function to add ground truth column to dataframe\n",
    "    Args:\n",
    "    row - a given row where we want to add the column\n",
    "    Returns:\n",
    "    the row with the added column\n",
    "    \"\"\"\n",
    "    return get_label(row, list_=ground_truth, label='Truth')\n",
    "\n",
    "def get_detectron_label(row):\n",
    "    \"\"\"\n",
    "    function to add detectron label column to dataframe\n",
    "    Args:\n",
    "    row - a given row where we want to add the column\n",
    "    Returns:\n",
    "    the row with the added column\n",
    "    \"\"\"\n",
    "    return get_label(row, list_=detectron_method,label='According to Detectron')\n",
    "\n",
    "def get_regex_label(row):\n",
    "    \"\"\"\n",
    "    function to add regex label column to dataframe\n",
    "    Args:\n",
    "    row - a given row where we want to add the column\n",
    "    Returns:\n",
    "    the row with the added column\n",
    "    \"\"\"\n",
    "    return get_label(row, list_=regex_method, label='According to regex method')"
   ]
  },
  {
   "cell_type": "code",
   "execution_count": 5,
   "metadata": {},
   "outputs": [
    {
     "data": {
      "text/html": [
       "<div>\n",
       "<style scoped>\n",
       "    .dataframe tbody tr th:only-of-type {\n",
       "        vertical-align: middle;\n",
       "    }\n",
       "\n",
       "    .dataframe tbody tr th {\n",
       "        vertical-align: top;\n",
       "    }\n",
       "\n",
       "    .dataframe thead th {\n",
       "        text-align: right;\n",
       "    }\n",
       "</style>\n",
       "<table border=\"1\" class=\"dataframe\">\n",
       "  <thead>\n",
       "    <tr style=\"text-align: right;\">\n",
       "      <th></th>\n",
       "      <th>Patent Number</th>\n",
       "    </tr>\n",
       "  </thead>\n",
       "  <tbody>\n",
       "    <tr>\n",
       "      <th>0</th>\n",
       "      <td>GB1000941A</td>\n",
       "    </tr>\n",
       "    <tr>\n",
       "      <th>1</th>\n",
       "      <td>GB1002311A</td>\n",
       "    </tr>\n",
       "    <tr>\n",
       "      <th>2</th>\n",
       "      <td>GB1002479A</td>\n",
       "    </tr>\n",
       "    <tr>\n",
       "      <th>3</th>\n",
       "      <td>GB1004509A</td>\n",
       "    </tr>\n",
       "    <tr>\n",
       "      <th>4</th>\n",
       "      <td>GB100619A</td>\n",
       "    </tr>\n",
       "    <tr>\n",
       "      <th>...</th>\n",
       "      <td>...</td>\n",
       "    </tr>\n",
       "    <tr>\n",
       "      <th>551</th>\n",
       "      <td>GB189920732A</td>\n",
       "    </tr>\n",
       "    <tr>\n",
       "      <th>552</th>\n",
       "      <td>GB189921838A</td>\n",
       "    </tr>\n",
       "    <tr>\n",
       "      <th>553</th>\n",
       "      <td>GB189925099A</td>\n",
       "    </tr>\n",
       "    <tr>\n",
       "      <th>554</th>\n",
       "      <td>GB189925140A</td>\n",
       "    </tr>\n",
       "    <tr>\n",
       "      <th>555</th>\n",
       "      <td>GB189925735A</td>\n",
       "    </tr>\n",
       "  </tbody>\n",
       "</table>\n",
       "<p>556 rows × 1 columns</p>\n",
       "</div>"
      ],
      "text/plain": [
       "    Patent Number\n",
       "0      GB1000941A\n",
       "1      GB1002311A\n",
       "2      GB1002479A\n",
       "3      GB1004509A\n",
       "4       GB100619A\n",
       "..            ...\n",
       "551  GB189920732A\n",
       "552  GB189921838A\n",
       "553  GB189925099A\n",
       "554  GB189925140A\n",
       "555  GB189925735A\n",
       "\n",
       "[556 rows x 1 columns]"
      ]
     },
     "execution_count": 5,
     "metadata": {},
     "output_type": "execute_result"
    }
   ],
   "source": [
    "patents = pd.DataFrame(all_patents,columns=['Patent Number'])\n",
    "patents"
   ]
  },
  {
   "cell_type": "code",
   "execution_count": 6,
   "metadata": {},
   "outputs": [
    {
     "data": {
      "text/html": [
       "<div>\n",
       "<style scoped>\n",
       "    .dataframe tbody tr th:only-of-type {\n",
       "        vertical-align: middle;\n",
       "    }\n",
       "\n",
       "    .dataframe tbody tr th {\n",
       "        vertical-align: top;\n",
       "    }\n",
       "\n",
       "    .dataframe thead th {\n",
       "        text-align: right;\n",
       "    }\n",
       "</style>\n",
       "<table border=\"1\" class=\"dataframe\">\n",
       "  <thead>\n",
       "    <tr style=\"text-align: right;\">\n",
       "      <th></th>\n",
       "      <th>Patent Number</th>\n",
       "    </tr>\n",
       "  </thead>\n",
       "  <tbody>\n",
       "    <tr>\n",
       "      <th>0</th>\n",
       "      <td>GB1000941A</td>\n",
       "    </tr>\n",
       "    <tr>\n",
       "      <th>1</th>\n",
       "      <td>GB1002311A</td>\n",
       "    </tr>\n",
       "    <tr>\n",
       "      <th>2</th>\n",
       "      <td>GB1002479A</td>\n",
       "    </tr>\n",
       "    <tr>\n",
       "      <th>3</th>\n",
       "      <td>GB1004509A</td>\n",
       "    </tr>\n",
       "    <tr>\n",
       "      <th>4</th>\n",
       "      <td>GB100619A</td>\n",
       "    </tr>\n",
       "    <tr>\n",
       "      <th>...</th>\n",
       "      <td>...</td>\n",
       "    </tr>\n",
       "    <tr>\n",
       "      <th>551</th>\n",
       "      <td>GB189920732A</td>\n",
       "    </tr>\n",
       "    <tr>\n",
       "      <th>552</th>\n",
       "      <td>GB189921838A</td>\n",
       "    </tr>\n",
       "    <tr>\n",
       "      <th>553</th>\n",
       "      <td>GB189925099A</td>\n",
       "    </tr>\n",
       "    <tr>\n",
       "      <th>554</th>\n",
       "      <td>GB189925140A</td>\n",
       "    </tr>\n",
       "    <tr>\n",
       "      <th>555</th>\n",
       "      <td>GB189925735A</td>\n",
       "    </tr>\n",
       "  </tbody>\n",
       "</table>\n",
       "<p>556 rows × 1 columns</p>\n",
       "</div>"
      ],
      "text/plain": [
       "    Patent Number\n",
       "0      GB1000941A\n",
       "1      GB1002311A\n",
       "2      GB1002479A\n",
       "3      GB1004509A\n",
       "4       GB100619A\n",
       "..            ...\n",
       "551  GB189920732A\n",
       "552  GB189921838A\n",
       "553  GB189925099A\n",
       "554  GB189925140A\n",
       "555  GB189925735A\n",
       "\n",
       "[556 rows x 1 columns]"
      ]
     },
     "execution_count": 6,
     "metadata": {},
     "output_type": "execute_result"
    }
   ],
   "source": [
    "patents"
   ]
  },
  {
   "cell_type": "code",
   "execution_count": 7,
   "metadata": {},
   "outputs": [],
   "source": [
    "patents = patents.apply(lambda row: get_real_label(row),axis=1).apply(lambda row: get_regex_label(row),axis=1).apply(lambda row: get_detectron_label(row),axis=1)"
   ]
  },
  {
   "cell_type": "code",
   "execution_count": 8,
   "metadata": {},
   "outputs": [
    {
     "data": {
      "text/html": [
       "<div>\n",
       "<style scoped>\n",
       "    .dataframe tbody tr th:only-of-type {\n",
       "        vertical-align: middle;\n",
       "    }\n",
       "\n",
       "    .dataframe tbody tr th {\n",
       "        vertical-align: top;\n",
       "    }\n",
       "\n",
       "    .dataframe thead th {\n",
       "        text-align: right;\n",
       "    }\n",
       "</style>\n",
       "<table border=\"1\" class=\"dataframe\">\n",
       "  <thead>\n",
       "    <tr style=\"text-align: right;\">\n",
       "      <th></th>\n",
       "      <th>Patent Number</th>\n",
       "      <th>Truth</th>\n",
       "      <th>According to regex method</th>\n",
       "      <th>According to Detectron</th>\n",
       "    </tr>\n",
       "  </thead>\n",
       "  <tbody>\n",
       "    <tr>\n",
       "      <th>0</th>\n",
       "      <td>GB1000941A</td>\n",
       "      <td>yes</td>\n",
       "      <td>yes</td>\n",
       "      <td>yes</td>\n",
       "    </tr>\n",
       "    <tr>\n",
       "      <th>1</th>\n",
       "      <td>GB1002311A</td>\n",
       "      <td>yes</td>\n",
       "      <td>yes</td>\n",
       "      <td>yes</td>\n",
       "    </tr>\n",
       "    <tr>\n",
       "      <th>2</th>\n",
       "      <td>GB1002479A</td>\n",
       "      <td>yes</td>\n",
       "      <td>yes</td>\n",
       "      <td>yes</td>\n",
       "    </tr>\n",
       "    <tr>\n",
       "      <th>3</th>\n",
       "      <td>GB1004509A</td>\n",
       "      <td>yes</td>\n",
       "      <td>yes</td>\n",
       "      <td>yes</td>\n",
       "    </tr>\n",
       "    <tr>\n",
       "      <th>4</th>\n",
       "      <td>GB100619A</td>\n",
       "      <td>yes</td>\n",
       "      <td>yes</td>\n",
       "      <td>yes</td>\n",
       "    </tr>\n",
       "    <tr>\n",
       "      <th>...</th>\n",
       "      <td>...</td>\n",
       "      <td>...</td>\n",
       "      <td>...</td>\n",
       "      <td>...</td>\n",
       "    </tr>\n",
       "    <tr>\n",
       "      <th>551</th>\n",
       "      <td>GB189920732A</td>\n",
       "      <td>yes</td>\n",
       "      <td>yes</td>\n",
       "      <td>yes</td>\n",
       "    </tr>\n",
       "    <tr>\n",
       "      <th>552</th>\n",
       "      <td>GB189921838A</td>\n",
       "      <td>no</td>\n",
       "      <td>no</td>\n",
       "      <td>no</td>\n",
       "    </tr>\n",
       "    <tr>\n",
       "      <th>553</th>\n",
       "      <td>GB189925099A</td>\n",
       "      <td>no</td>\n",
       "      <td>no</td>\n",
       "      <td>no</td>\n",
       "    </tr>\n",
       "    <tr>\n",
       "      <th>554</th>\n",
       "      <td>GB189925140A</td>\n",
       "      <td>yes</td>\n",
       "      <td>yes</td>\n",
       "      <td>yes</td>\n",
       "    </tr>\n",
       "    <tr>\n",
       "      <th>555</th>\n",
       "      <td>GB189925735A</td>\n",
       "      <td>no</td>\n",
       "      <td>no</td>\n",
       "      <td>no</td>\n",
       "    </tr>\n",
       "  </tbody>\n",
       "</table>\n",
       "<p>556 rows × 4 columns</p>\n",
       "</div>"
      ],
      "text/plain": [
       "    Patent Number Truth According to regex method According to Detectron\n",
       "0      GB1000941A   yes                       yes                    yes\n",
       "1      GB1002311A   yes                       yes                    yes\n",
       "2      GB1002479A   yes                       yes                    yes\n",
       "3      GB1004509A   yes                       yes                    yes\n",
       "4       GB100619A   yes                       yes                    yes\n",
       "..            ...   ...                       ...                    ...\n",
       "551  GB189920732A   yes                       yes                    yes\n",
       "552  GB189921838A    no                        no                     no\n",
       "553  GB189925099A    no                        no                     no\n",
       "554  GB189925140A   yes                       yes                    yes\n",
       "555  GB189925735A    no                        no                     no\n",
       "\n",
       "[556 rows x 4 columns]"
      ]
     },
     "execution_count": 8,
     "metadata": {},
     "output_type": "execute_result"
    }
   ],
   "source": [
    "patents"
   ]
  },
  {
   "cell_type": "code",
   "execution_count": 9,
   "metadata": {},
   "outputs": [],
   "source": [
    "yes_regex = patents[patents['According to regex method'] == 'yes']\n",
    "no_regex = patents[patents['According to regex method'] == 'no']\n",
    "yes_detectron = patents[patents['According to Detectron'] == 'yes']\n",
    "no_detectron = patents[patents['According to Detectron'] == 'no']\n",
    "yes_truth = patents[patents['Truth'] == 'yes']\n",
    "no_truth = patents[patents['Truth'] == 'no']"
   ]
  },
  {
   "cell_type": "code",
   "execution_count": 95,
   "metadata": {},
   "outputs": [
    {
     "data": {
      "text/plain": [
       "0.9885844748858448"
      ]
     },
     "execution_count": 95,
     "metadata": {},
     "output_type": "execute_result"
    }
   ],
   "source": [
    "#classified as yes and actually yes\n",
    "len(yes_detectron[yes_detectron['Truth'] == 'yes'])/len(yes_detectron)"
   ]
  },
  {
   "cell_type": "code",
   "execution_count": 96,
   "metadata": {},
   "outputs": [
    {
     "data": {
      "text/plain": [
       "0.9915254237288136"
      ]
     },
     "execution_count": 96,
     "metadata": {},
     "output_type": "execute_result"
    }
   ],
   "source": [
    "#classified as no and actually no\n",
    "len(no_detectron[no_detectron['Truth'] == 'no'])/len(no_detectron)"
   ]
  },
  {
   "cell_type": "code",
   "execution_count": 97,
   "metadata": {},
   "outputs": [
    {
     "data": {
      "text/plain": [
       "0.980722891566265"
      ]
     },
     "execution_count": 97,
     "metadata": {},
     "output_type": "execute_result"
    }
   ],
   "source": [
    "#classified as yes and actually yes\n",
    "len(yes_regex[yes_regex['Truth'] == 'yes'])/len(yes_regex)"
   ]
  },
  {
   "cell_type": "code",
   "execution_count": 98,
   "metadata": {},
   "outputs": [
    {
     "data": {
      "text/plain": [
       "0.8085106382978723"
      ]
     },
     "execution_count": 98,
     "metadata": {},
     "output_type": "execute_result"
    }
   ],
   "source": [
    "#classified as no and actually no\n",
    "len(no_regex[no_regex['Truth'] == 'no'])/len(no_regex)"
   ]
  },
  {
   "cell_type": "code",
   "execution_count": 102,
   "metadata": {},
   "outputs": [
    {
     "data": {
      "text/plain": [
       "0.9976958525345622"
      ]
     },
     "execution_count": 102,
     "metadata": {},
     "output_type": "execute_result"
    }
   ],
   "source": [
    "#actually yes and classified as yes\n",
    "len(yes_truth[yes_truth['According to Detectron'] == 'yes'])/len(yes_truth)"
   ]
  },
  {
   "cell_type": "code",
   "execution_count": 101,
   "metadata": {},
   "outputs": [
    {
     "data": {
      "text/plain": [
       "0.9377880184331797"
      ]
     },
     "execution_count": 101,
     "metadata": {},
     "output_type": "execute_result"
    }
   ],
   "source": [
    "#actually yes and classified as yes\n",
    "len(yes_truth[yes_truth['According to regex method'] == 'yes'])/len(yes_truth)"
   ]
  },
  {
   "cell_type": "code",
   "execution_count": 100,
   "metadata": {},
   "outputs": [
    {
     "data": {
      "text/plain": [
       "0.9590163934426229"
      ]
     },
     "execution_count": 100,
     "metadata": {},
     "output_type": "execute_result"
    }
   ],
   "source": [
    "#actually no and classified as no\n",
    "len(no_truth[no_truth['According to Detectron'] == 'no'])/len(no_truth)"
   ]
  },
  {
   "cell_type": "code",
   "execution_count": 99,
   "metadata": {},
   "outputs": [
    {
     "data": {
      "text/plain": [
       "0.9344262295081968"
      ]
     },
     "execution_count": 99,
     "metadata": {},
     "output_type": "execute_result"
    }
   ],
   "source": [
    "#actually no and classified as no\n",
    "len(no_truth[no_truth['According to regex method'] == 'no'])/len(no_truth)"
   ]
  },
  {
   "cell_type": "code",
   "execution_count": 16,
   "metadata": {},
   "outputs": [],
   "source": [
    "correct_class_detectron = patents[patents['According to Detectron'] == patents['Truth']].reset_index().drop(columns=['index'])\n",
    "correct_class_regex = patents[patents['According to regex method'] == patents['Truth']].reset_index().drop(columns=['index'])"
   ]
  },
  {
   "cell_type": "code",
   "execution_count": 15,
   "metadata": {},
   "outputs": [
    {
     "data": {
      "text/plain": [
       "0.9892086330935251"
      ]
     },
     "execution_count": 15,
     "metadata": {},
     "output_type": "execute_result"
    }
   ],
   "source": [
    "#precision\n",
    "len(correct_class_detectron)/len(patents)"
   ]
  },
  {
   "cell_type": "code",
   "execution_count": 17,
   "metadata": {},
   "outputs": [
    {
     "data": {
      "text/plain": [
       "0.9370503597122302"
      ]
     },
     "execution_count": 17,
     "metadata": {},
     "output_type": "execute_result"
    }
   ],
   "source": [
    "#precision\n",
    "len(correct_class_regex)/len(patents)"
   ]
  },
  {
   "cell_type": "code",
   "execution_count": null,
   "metadata": {},
   "outputs": [],
   "source": []
  }
 ],
 "metadata": {
  "kernelspec": {
   "display_name": "Python 3",
   "language": "python",
   "name": "python3"
  },
  "language_info": {
   "codemirror_mode": {
    "name": "ipython",
    "version": 3
   },
   "file_extension": ".py",
   "mimetype": "text/x-python",
   "name": "python",
   "nbconvert_exporter": "python",
   "pygments_lexer": "ipython3",
   "version": "3.6.12"
  }
 },
 "nbformat": 4,
 "nbformat_minor": 4
}
