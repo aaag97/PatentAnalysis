{
 "cells": [
  {
   "cell_type": "markdown",
   "metadata": {},
   "source": [
    "This notebook attempted to use Trankribus to do the OCR process."
   ]
  },
  {
   "cell_type": "code",
   "execution_count": 8,
   "metadata": {},
   "outputs": [],
   "source": [
    "import requests \n",
    "  \n",
    "# api-endpoint \n",
    "URL = \"https://transkribus.eu/TrpServer/rest/auth/login\"\n",
    "  \n",
    "# defining a params dict for the parameters to be sent to the API \n",
    "PARAMS = {'Email':'andre.ghattas@epfl.ch', 'Password': ''} \n",
    "  \n",
    "# sending get request and saving the response as response object \n",
    "r = requests.post(url = URL, params = PARAMS) \n"
   ]
  },
  {
   "cell_type": "code",
   "execution_count": 9,
   "metadata": {
    "collapsed": true
   },
   "outputs": [
    {
     "data": {
      "text/plain": [
       "b'<!doctype html><html lang=\"en\"><head><title>HTTP Status 500 \\xe2\\x80\\x93 Internal Server Error</title><style type=\"text/css\">body {font-family:Tahoma,Arial,sans-serif;} h1, h2, h3, b {color:white;background-color:#525D76;} h1 {font-size:22px;} h2 {font-size:16px;} h3 {font-size:14px;} p {font-size:12px;} a {color:black;} .line {height:1px;background-color:#525D76;border:none;}</style></head><body><h1>HTTP Status 500 \\xe2\\x80\\x93 Internal Server Error</h1><hr class=\"line\" /><p><b>Type</b> Exception Report</p><p><b>Message</b> java.lang.IllegalStateException: The @FormParam is utilized when the content type of the request entity is not application&#47;x-www-form-urlencoded</p><p><b>Description</b> The server encountered an unexpected condition that prevented it from fulfilling the request.</p><p><b>Exception</b></p><pre>javax.servlet.ServletException: java.lang.IllegalStateException: The @FormParam is utilized when the content type of the request entity is not application&#47;x-www-form-urlencoded\\n\\torg.glassfish.jersey.servlet.WebComponent.serviceImpl(WebComponent.java:489)\\n\\torg.glassfish.jersey.servlet.WebComponent.service(WebComponent.java:427)\\n\\torg.glassfish.jersey.servlet.ServletContainer.service(ServletContainer.java:388)\\n\\torg.glassfish.jersey.servlet.ServletContainer.service(ServletContainer.java:341)\\n\\torg.glassfish.jersey.servlet.ServletContainer.service(ServletContainer.java:228)\\n\\torg.apache.tomcat.websocket.server.WsFilter.doFilter(WsFilter.java:52)\\n\\teu.transkribus.server.rest.filter.HistoryFilter.doFilter(HistoryFilter.java:80)\\n\\teu.transkribus.server.rest.filter.ClientVersionFilter.doFilter(ClientVersionFilter.java:58)\\n\\teu.transkribus.server.rest.filter.IpFilter.doFilter(IpFilter.java:109)\\n\\teu.transkribus.server.logic.auth.AuthFilter.doFilter(AuthFilter.java:229)\\n</pre><p><b>Root Cause</b></p><pre>java.lang.IllegalStateException: The @FormParam is utilized when the content type of the request entity is not application&#47;x-www-form-urlencoded\\n\\torg.glassfish.jersey.server.internal.inject.FormParamValueFactoryProvider$FormParamValueFactory.ensureValidRequest(FormParamValueFactoryProvider.java:183)\\n\\torg.glassfish.jersey.server.internal.inject.FormParamValueFactoryProvider$FormParamValueFactory.getForm(FormParamValueFactoryProvider.java:167)\\n\\torg.glassfish.jersey.server.internal.inject.FormParamValueFactoryProvider$FormParamValueFactory.provide(FormParamValueFactoryProvider.java:118)\\n\\torg.glassfish.jersey.server.spi.internal.ParamValueFactoryWithSource.provide(ParamValueFactoryWithSource.java:71)\\n\\torg.glassfish.jersey.server.spi.internal.ParameterValueHelper.getParameterValues(ParameterValueHelper.java:90)\\n\\torg.glassfish.jersey.server.model.internal.JavaResourceMethodDispatcherProvider$AbstractMethodParamInvoker.getParamValues(JavaResourceMethodDispatcherProvider.java:127)\\n\\torg.glassfish.jersey.server.model.internal.JavaResourceMethodDispatcherProvider$ResponseOutInvoker.doDispatch(JavaResourceMethodDispatcherProvider.java:160)\\n\\torg.glassfish.jersey.server.model.internal.AbstractJavaResourceMethodDispatcher.dispatch(AbstractJavaResourceMethodDispatcher.java:99)\\n\\torg.glassfish.jersey.server.model.ResourceMethodInvoker.invoke(ResourceMethodInvoker.java:389)\\n\\torg.glassfish.jersey.server.model.ResourceMethodInvoker.apply(ResourceMethodInvoker.java:347)\\n\\torg.glassfish.jersey.server.model.ResourceMethodInvoker.apply(ResourceMethodInvoker.java:102)\\n\\torg.glassfish.jersey.server.ServerRuntime$2.run(ServerRuntime.java:326)\\n\\torg.glassfish.jersey.internal.Errors$1.call(Errors.java:271)\\n\\torg.glassfish.jersey.internal.Errors$1.call(Errors.java:267)\\n\\torg.glassfish.jersey.internal.Errors.process(Errors.java:315)\\n\\torg.glassfish.jersey.internal.Errors.process(Errors.java:297)\\n\\torg.glassfish.jersey.internal.Errors.process(Errors.java:267)\\n\\torg.glassfish.jersey.process.internal.RequestScope.runInScope(RequestScope.java:317)\\n\\torg.glassfish.jersey.server.ServerRuntime.process(ServerRuntime.java:305)\\n\\torg.glassfish.jersey.server.ApplicationHandler.handle(ApplicationHandler.java:1154)\\n\\torg.glassfish.jersey.servlet.WebComponent.serviceImpl(WebComponent.java:473)\\n\\torg.glassfish.jersey.servlet.WebComponent.service(WebComponent.java:427)\\n\\torg.glassfish.jersey.servlet.ServletContainer.service(ServletContainer.java:388)\\n\\torg.glassfish.jersey.servlet.ServletContainer.service(ServletContainer.java:341)\\n\\torg.glassfish.jersey.servlet.ServletContainer.service(ServletContainer.java:228)\\n\\torg.apache.tomcat.websocket.server.WsFilter.doFilter(WsFilter.java:52)\\n\\teu.transkribus.server.rest.filter.HistoryFilter.doFilter(HistoryFilter.java:80)\\n\\teu.transkribus.server.rest.filter.ClientVersionFilter.doFilter(ClientVersionFilter.java:58)\\n\\teu.transkribus.server.rest.filter.IpFilter.doFilter(IpFilter.java:109)\\n\\teu.transkribus.server.logic.auth.AuthFilter.doFilter(AuthFilter.java:229)\\n</pre><p><b>Note</b> The full stack trace of the root cause is available in the server logs.</p><hr class=\"line\" /><h3>Apache Tomcat/8.5.51</h3></body></html>'"
      ]
     },
     "execution_count": 9,
     "metadata": {},
     "output_type": "execute_result"
    }
   ],
   "source": [
    "r.content"
   ]
  },
  {
   "cell_type": "code",
   "execution_count": null,
   "metadata": {},
   "outputs": [],
   "source": []
  }
 ],
 "metadata": {
  "kernelspec": {
   "display_name": "patentproj",
   "language": "python",
   "name": "patentproj"
  },
  "language_info": {
   "codemirror_mode": {
    "name": "ipython",
    "version": 3
   },
   "file_extension": ".py",
   "mimetype": "text/x-python",
   "name": "python",
   "nbconvert_exporter": "python",
   "pygments_lexer": "ipython3",
   "version": "3.6.12"
  }
 },
 "nbformat": 4,
 "nbformat_minor": 4
}
