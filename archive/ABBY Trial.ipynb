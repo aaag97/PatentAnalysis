{
 "cells": [
  {
   "cell_type": "markdown",
   "metadata": {},
   "source": [
    "A notebook to test the ABBYY method of OCR'ing documents. It works well, however it is very limited in terms of the number of pages we may OCR with no charge."
   ]
  },
  {
   "cell_type": "code",
   "execution_count": 2,
   "metadata": {},
   "outputs": [],
   "source": [
    "import os"
   ]
  },
  {
   "cell_type": "code",
   "execution_count": null,
   "metadata": {},
   "outputs": [],
   "source": [
    "# os.system('python process.py /Volumes/Non-Backup_Files/US-patents/random_sample_seeded/430/00000002.tif test.txt')"
   ]
  }
 ],
 "metadata": {
  "kernelspec": {
   "display_name": "patentproj",
   "language": "python",
   "name": "patentproj"
  },
  "language_info": {
   "codemirror_mode": {
    "name": "ipython",
    "version": 3
   },
   "file_extension": ".py",
   "mimetype": "text/x-python",
   "name": "python",
   "nbconvert_exporter": "python",
   "pygments_lexer": "ipython3",
   "version": "3.6.12"
  }
 },
 "nbformat": 4,
 "nbformat_minor": 4
}
