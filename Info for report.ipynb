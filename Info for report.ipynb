{
 "cells": [
  {
   "cell_type": "markdown",
   "metadata": {},
   "source": [
    "This notebook gets some extra information concerning the data to be used in the report."
   ]
  },
  {
   "cell_type": "code",
   "execution_count": 8,
   "metadata": {},
   "outputs": [],
   "source": [
    "import os\n",
    "\n",
    "# get number of patents\n",
    "\n",
    "#GB\n",
    "pdfs = []\n",
    "for path, dirs, files in os.walk('/Volumes/Non-Backup_Files/GB-patents/0'):\n",
    "    for f in files:\n",
    "        if f.endswith('pdf'):\n",
    "            pdfs.append('{}/{}'.format(path, f))\n",
    "for path, dirs, files in os.walk('/Volumes/Non-Backup_Files/GB-patents/1'):\n",
    "    for f in files:\n",
    "        if f.endswith('pdf'):\n",
    "            pdfs.append('{}/{}'.format(path, f))\n",
    "for path, dirs, files in os.walk('/Volumes/Non-Backup_Files/GB-patents/Pre1900'):\n",
    "    for f in files:\n",
    "        if f.endswith('pdf'):\n",
    "            pdfs.append('{}/{}'.format(path, f))   \n",
    "\n",
    "#US\n",
    "#fetch all paths to tif's\n",
    "tifs = []\n",
    "for path, dirs, files in os.walk(\"/Volumes/Non-Backup_Files/US-patents/\"):\n",
    "    for f in files:\n",
    "        if f.endswith('tif'):\n",
    "            tifs.append('{}/{}'.format(path, f))\n",
    "patent_dict = {}\n",
    "for tif_path in tifs:\n",
    "    if '/00/' in tif_path and ''.join(tif_path.split('/')[-3:-1]).isdigit():\n",
    "        if int(''.join(tif_path.split('/')[-3:-1])) in patent_dict:\n",
    "            patent_dict[int(''.join(tif_path.split('/')[-3:-1]))].append(tif_path)\n",
    "        else:\n",
    "            patent_dict.update({int(''.join(tif_path.split('/')[-3:-1])): [tif_path]})"
   ]
  },
  {
   "cell_type": "code",
   "execution_count": 9,
   "metadata": {},
   "outputs": [
    {
     "data": {
      "text/plain": [
       "674807"
      ]
     },
     "execution_count": 9,
     "metadata": {},
     "output_type": "execute_result"
    }
   ],
   "source": [
    "len(patent_dict.keys())"
   ]
  },
  {
   "cell_type": "code",
   "execution_count": 10,
   "metadata": {},
   "outputs": [
    {
     "data": {
      "text/plain": [
       "352735"
      ]
     },
     "execution_count": 10,
     "metadata": {},
     "output_type": "execute_result"
    }
   ],
   "source": [
    "len(pdfs)"
   ]
  },
  {
   "cell_type": "code",
   "execution_count": 11,
   "metadata": {},
   "outputs": [
    {
     "data": {
      "text/plain": [
       "1027542"
      ]
     },
     "execution_count": 11,
     "metadata": {},
     "output_type": "execute_result"
    }
   ],
   "source": [
    "len(patent_dict.keys()) + len(pdfs)"
   ]
  },
  {
   "cell_type": "code",
   "execution_count": null,
   "metadata": {},
   "outputs": [],
   "source": []
  }
 ],
 "metadata": {
  "kernelspec": {
   "display_name": "patentproj",
   "language": "python",
   "name": "patentproj"
  },
  "language_info": {
   "codemirror_mode": {
    "name": "ipython",
    "version": 3
   },
   "file_extension": ".py",
   "mimetype": "text/x-python",
   "name": "python",
   "nbconvert_exporter": "python",
   "pygments_lexer": "ipython3",
   "version": "3.6.12"
  }
 },
 "nbformat": 4,
 "nbformat_minor": 4
}
