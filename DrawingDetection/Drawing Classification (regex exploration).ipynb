{
 "cells": [
  {
   "cell_type": "markdown",
   "metadata": {},
   "source": [
    "This notebook explores the potential use of regular expression to classify patents."
   ]
  },
  {
   "cell_type": "code",
   "execution_count": 1,
   "metadata": {},
   "outputs": [],
   "source": [
    "import sys\n",
    "sys.path.insert(1, '../')\n",
    "import os\n",
    "import re"
   ]
  },
  {
   "cell_type": "code",
   "execution_count": 11,
   "metadata": {},
   "outputs": [],
   "source": [
    "def write_list(list_, output_name):\n",
    "    \"\"\"\n",
    "    Function to type list in txt file\n",
    "    Params:\n",
    "    list_ - list to write out\n",
    "    output_name - txt file to create and type out list in\n",
    "    \"\"\"\n",
    "    with open(output_name, 'w') as file:\n",
    "        for item in list_:\n",
    "            file.write('%s\\n' % item)"
   ]
  },
  {
   "cell_type": "code",
   "execution_count": 7,
   "metadata": {},
   "outputs": [],
   "source": [
    "#fetch all paths to pdf's\n",
    "patent_txts_links = []\n",
    "for path, dirs, files in os.walk(\"/Volumes/Non-Backup_Files/GB-patents/MachineReadableBaseline/\"):\n",
    "    for f in files:\n",
    "        if f.endswith('txt'):\n",
    "            patent_txts_links.append('{}/{}'.format(path, f))"
   ]
  },
  {
   "cell_type": "code",
   "execution_count": 6,
   "metadata": {},
   "outputs": [
    {
     "data": {
      "text/plain": [
       "'GB0110012A.txt'"
      ]
     },
     "execution_count": 6,
     "metadata": {},
     "output_type": "execute_result"
    }
   ],
   "source": [
    "patent_txts_links[0]"
   ]
  },
  {
   "cell_type": "code",
   "execution_count": 12,
   "metadata": {},
   "outputs": [],
   "source": [
    "# RUN TO GET ALL PATENTS TO TXT FORMAT\n",
    "patents_w_imgs = []\n",
    "\n",
    "for patent_txt_path_index in range(len(patent_txts_links)):\n",
    "    with open(patent_txts_links[patent_txt_path_index], \"r\") as text_file:\n",
    "        text_file_str = text_file.read()\n",
    "    if re.search('[Ff][Ii][Gg]\\.[0-9]+', text_file_str) or re.search('[Ff][Ii][Gg]\\. [0-9]+', text_file_str) or re.search('drawing', text_file_str):\n",
    "        patents_w_imgs.append(patent_txts_links[patent_txt_path_index])\n",
    "            \n",
    "# write_list(patents_w_imgs, 'patents_with_images_list.txt')\n",
    "# write_list(patents_w_imgs, '/Volumes/Non-Backup_Files/GB-patents/patents_with_images_list.txt')"
   ]
  }
 ],
 "metadata": {
  "kernelspec": {
   "display_name": "patentproj",
   "language": "python",
   "name": "patentproj"
  },
  "language_info": {
   "codemirror_mode": {
    "name": "ipython",
    "version": 3
   },
   "file_extension": ".py",
   "mimetype": "text/x-python",
   "name": "python",
   "nbconvert_exporter": "python",
   "pygments_lexer": "ipython3",
   "version": "3.6.12"
  }
 },
 "nbformat": 4,
 "nbformat_minor": 4
}
