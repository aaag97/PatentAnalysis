{
 "cells": [
  {
   "cell_type": "markdown",
   "metadata": {},
   "source": [
    "This notebook is an attempt to inspect the difference in size between pages which have drawings and pages which don't in patents. This method was discarded after a counterexample was found."
   ]
  },
  {
   "cell_type": "code",
   "execution_count": 3,
   "metadata": {},
   "outputs": [],
   "source": [
    "import sys\n",
    "sys.path.insert(1, '../')\n",
    "import PIL\n",
    "from PyPDF2 import PdfFileReader"
   ]
  },
  {
   "cell_type": "code",
   "execution_count": 12,
   "metadata": {},
   "outputs": [
    {
     "name": "stdout",
     "output_type": "stream",
     "text": [
      "RectangleObject([0, 0, 595, 842])\n",
      "RectangleObject([0, 0, 595, 842])\n",
      "RectangleObject([0, 0, 595, 842])\n",
      "RectangleObject([0, 0, 595, 842])\n",
      "RectangleObject([0, 0, 595, 842])\n",
      "RectangleObject([0, 0, 595, 842])\n"
     ]
    }
   ],
   "source": [
    "input1 = PdfFileReader(open('/Volumes/Non-Backup_Files/GB-patents/random_sample_seeded/GB100619A.pdf', 'rb'))\n",
    "for i in range(input1.getNumPages()):\n",
    "    print(input1.getPage(i).mediaBox)"
   ]
  }
 ],
 "metadata": {
  "kernelspec": {
   "display_name": "patentproj",
   "language": "python",
   "name": "patentproj"
  },
  "language_info": {
   "codemirror_mode": {
    "name": "ipython",
    "version": 3
   },
   "file_extension": ".py",
   "mimetype": "text/x-python",
   "name": "python",
   "nbconvert_exporter": "python",
   "pygments_lexer": "ipython3",
   "version": "3.6.12"
  }
 },
 "nbformat": 4,
 "nbformat_minor": 4
}
