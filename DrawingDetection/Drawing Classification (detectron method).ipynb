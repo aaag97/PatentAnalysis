{
 "cells": [
  {
   "cell_type": "markdown",
   "metadata": {},
   "source": [
    "Given the results of the finetuned detectron model evaluation, we should use the reduced (non sigil) resnet101 model to predict whether there is a figure in a given patent.\n",
    "\n",
    "This notebook is used to determine which patents in the test set have drawings according to the best detectron2 model constructed."
   ]
  },
  {
   "cell_type": "code",
   "execution_count": 3,
   "metadata": {},
   "outputs": [],
   "source": [
    "import sys\n",
    "sys.path.insert(1, '../')\n",
    "import os\n",
    "import re"
   ]
  },
  {
   "cell_type": "code",
   "execution_count": 8,
   "metadata": {},
   "outputs": [],
   "source": [
    "#fetch all paths to txt with results of the model on the test set\n",
    "patent_evals = []\n",
    "for path, dirs, files in os.walk(\"detectron2_segmentation_of_new_test_set/preds_medium_no_sigil\"):\n",
    "    for f in files:\n",
    "        if f.endswith('txt'):\n",
    "            patent_evals.append('{}/{}'.format(path, f))"
   ]
  },
  {
   "cell_type": "code",
   "execution_count": 11,
   "metadata": {},
   "outputs": [],
   "source": [
    "#fetching all patents which have instances of the 'figure' class\n",
    "patents_with_images = set()\n",
    "for patent_page in patent_evals:\n",
    "    with open(patent_page, 'r') as f: \n",
    "        for line in f: \n",
    "            if(line[0] == '4'):\n",
    "                patents_with_images.add(patent_page.split('/')[-1].split('_')[0])"
   ]
  },
  {
   "cell_type": "code",
   "execution_count": 13,
   "metadata": {},
   "outputs": [
    {
     "data": {
      "text/plain": [
       "438"
      ]
     },
     "execution_count": 13,
     "metadata": {},
     "output_type": "execute_result"
    }
   ],
   "source": [
    "len(patents_with_images)"
   ]
  },
  {
   "cell_type": "code",
   "execution_count": 14,
   "metadata": {},
   "outputs": [],
   "source": [
    "def write_list(list_, output_name):\n",
    "    \"\"\"\n",
    "    function to type list in txt file\n",
    "    Args:\n",
    "    list_ - list to write out\n",
    "    output_name - txt file to create and type out list in\n",
    "    Returns:\n",
    "    None\n",
    "    \"\"\"\n",
    "    with open(output_name, 'w') as file:\n",
    "        for item in list_:\n",
    "            file.write('%s\\n' % item)"
   ]
  },
  {
   "cell_type": "code",
   "execution_count": 15,
   "metadata": {},
   "outputs": [],
   "source": [
    "#write out all the patent numbers which have drawings accoridng to detectron2\n",
    "write_list(patents_with_images, 'lists_of_patents_with_figures/detectron_method/new_test.txt')"
   ]
  }
 ],
 "metadata": {
  "kernelspec": {
   "display_name": "patentproj",
   "language": "python",
   "name": "patentproj"
  },
  "language_info": {
   "codemirror_mode": {
    "name": "ipython",
    "version": 3
   },
   "file_extension": ".py",
   "mimetype": "text/x-python",
   "name": "python",
   "nbconvert_exporter": "python",
   "pygments_lexer": "ipython3",
   "version": "3.6.12"
  }
 },
 "nbformat": 4,
 "nbformat_minor": 4
}
