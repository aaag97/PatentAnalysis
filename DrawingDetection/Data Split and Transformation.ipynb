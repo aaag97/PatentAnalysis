{
 "cells": [
  {
   "cell_type": "markdown",
   "metadata": {},
   "source": [
    "A notebook to construct the data to be annotated later on. In order to do so, it randomly samples a number of patents. Moreover, the notebook splits the selected patents into a test and train set. The train set is used in order to train a Detectron2 model and the test set is used for tests."
   ]
  },
  {
   "cell_type": "code",
   "execution_count": 2,
   "metadata": {},
   "outputs": [],
   "source": [
    "import sys\n",
    "sys.path.insert(1, '../')\n",
    "import pandas as pd\n",
    "import os\n",
    "import re\n",
    "import json\n",
    "from shutil import copytree\n",
    "import random\n",
    "from shutil import copyfile\n",
    "from os import mkdir\n",
    "from pdf2image import convert_from_path, convert_from_bytes\n",
    "from pdf2image.exceptions import (\n",
    "    PDFInfoNotInstalledError,\n",
    "    PDFPageCountError,\n",
    "    PDFSyntaxError\n",
    ")\n",
    "PATH_TO_TXTS = '/Volumes/Non-Backup_Files/GB-patents/random_sample_seeded_txt (tesseract)'\n",
    "PATH_TO_PDFS = '/Volumes/Non-Backup_Files/GB-patents/random_sample_seeded'\n",
    "PATH_TO_IMGS = '/Volumes/Non-Backup_Files/GB-patents/random_sample_seeded_imgs'\n",
    "PATH_TO_IMG_FOR_MODEL = '/Volumes/Non-Backup_Files/GB-patents/random_sample_seeded_for_model'"
   ]
  },
  {
   "cell_type": "code",
   "execution_count": 152,
   "metadata": {},
   "outputs": [],
   "source": [
    "#getting all paths to pdfs\n",
    "pdfs = []\n",
    "for path, dirs, files in os.walk(PATH_TO_PDFS):\n",
    "    for f in files:\n",
    "        if f.endswith('pdf'):\n",
    "            pdfs.append('{}/{}'.format(path, f))"
   ]
  },
  {
   "cell_type": "code",
   "execution_count": 153,
   "metadata": {},
   "outputs": [],
   "source": [
    "# convert pdfs to images\n",
    "for pdf_file in pdfs:\n",
    "    patent_nb = pdf_file.split('/')[-1].split('.')[0]\n",
    "    imgs = convert_from_path(pdf_file)\n",
    "    os.mkdir('/Volumes/Non-Backup_Files/GB-patents/random_sample_seeded_imgs/{}'.format(patent_nb))\n",
    "    for i in range(len(imgs)):\n",
    "        imgs[i].save('/Volumes/Non-Backup_Files/GB-patents/random_sample_seeded_imgs/{}/{}.png'.format(patent_nb, i), format='png')"
   ]
  },
  {
   "cell_type": "code",
   "execution_count": 154,
   "metadata": {},
   "outputs": [],
   "source": [
    "#getting random sample which will be used for model\n",
    "random.seed(42)\n",
    "patents = [pdf_file.split('/')[-1].split('.')[0] for pdf_file in pdfs]\n",
    "patent_sample = random.sample(patents, int(0.7 * len(patents)))"
   ]
  },
  {
   "cell_type": "code",
   "execution_count": 93,
   "metadata": {},
   "outputs": [],
   "source": [
    "# #putting them in correct directory (to run ONCE)\n",
    "# for patent_nb in patent_sample:\n",
    "#     copytree('/Volumes/Non-Backup_Files/GB-patents/random_sample_seeded_imgs/{}'.format(patent_nb), '/Volumes/Non-Backup_Files/GB-patents/random_sample_seeded_for_model/all/{}'.format(patent_nb))"
   ]
  },
  {
   "cell_type": "code",
   "execution_count": 165,
   "metadata": {},
   "outputs": [],
   "source": [
    "#getting all patent numbers which will be used for model\n",
    "seeded_model_data = [i for i in os.listdir('/Volumes/Non-Backup_Files/GB-patents/seeded_data_for_model/all') if 'GB' in i]\n"
   ]
  },
  {
   "cell_type": "code",
   "execution_count": 166,
   "metadata": {},
   "outputs": [],
   "source": [
    "def get_num_imgs(d):\n",
    "    \"\"\"\n",
    "    function to get number of images for a given patent\n",
    "    Args:\n",
    "    d - the directory/name of patent\n",
    "    \"\"\"\n",
    "    count = 0\n",
    "    for path in os.listdir(d):\n",
    "        if os.path.isfile(os.path.join(d, path)):\n",
    "            count += 1\n",
    "    return count"
   ]
  },
  {
   "cell_type": "code",
   "execution_count": 167,
   "metadata": {},
   "outputs": [],
   "source": [
    "#getting the number of images for each patent\n",
    "num_imgs = {d: get_num_imgs('/Volumes/Non-Backup_Files/GB-patents/seeded_data_for_model/all/{}'.format(d)) for d in seeded_model_data}\n"
   ]
  },
  {
   "cell_type": "code",
   "execution_count": 168,
   "metadata": {},
   "outputs": [],
   "source": [
    "#getting the test and train set\n",
    "import random\n",
    "random.seed(42)\n",
    "random.shuffle(seeded_model_data)\n",
    "# random.shuffle(num_imgs)\n",
    "test_size = int(sum(num_imgs.values()) * 0.3)\n",
    "test_set = {}\n",
    "acc = 0\n",
    "test_set_sep = 0\n",
    "#make sure that the test size is about 30%, for testing purposes, all images belonging \n",
    "#to a given patent are in one of either the test set or the train set\n",
    "while acc < test_size:\n",
    "    acc += num_imgs[seeded_model_data[test_set_sep]]\n",
    "    test_set_sep += 1"
   ]
  },
  {
   "cell_type": "code",
   "execution_count": 169,
   "metadata": {},
   "outputs": [
    {
     "data": {
      "text/plain": [
       "556"
      ]
     },
     "execution_count": 169,
     "metadata": {},
     "output_type": "execute_result"
    }
   ],
   "source": [
    "test_set_sep"
   ]
  },
  {
   "cell_type": "code",
   "execution_count": 170,
   "metadata": {},
   "outputs": [],
   "source": [
    "#doing the separation\n",
    "test_set = seeded_model_data[:test_set_sep]\n",
    "train_set = seeded_model_data[test_set_sep:]"
   ]
  },
  {
   "cell_type": "code",
   "execution_count": 171,
   "metadata": {},
   "outputs": [
    {
     "data": {
      "text/plain": [
       "6432"
      ]
     },
     "execution_count": 171,
     "metadata": {},
     "output_type": "execute_result"
    }
   ],
   "source": [
    "#number of images in train set\n",
    "sum([num_imgs[i] for i in seeded_model_data[test_set_sep:]])"
   ]
  },
  {
   "cell_type": "code",
   "execution_count": 172,
   "metadata": {},
   "outputs": [
    {
     "data": {
      "text/plain": [
       "2765"
      ]
     },
     "execution_count": 172,
     "metadata": {},
     "output_type": "execute_result"
    }
   ],
   "source": [
    "#number of images in test set\n",
    "sum([num_imgs[i] for i in seeded_model_data[:test_set_sep]])"
   ]
  },
  {
   "cell_type": "code",
   "execution_count": 173,
   "metadata": {},
   "outputs": [
    {
     "data": {
      "text/plain": [
       "(556, 1124, 1680)"
      ]
     },
     "execution_count": 173,
     "metadata": {},
     "output_type": "execute_result"
    }
   ],
   "source": [
    "#number of patents in test set, number of patents in train set, total number of patents used\n",
    "len(test_set), len(train_set),len(test_set) + len(train_set) "
   ]
  },
  {
   "cell_type": "code",
   "execution_count": 174,
   "metadata": {},
   "outputs": [],
   "source": [
    "#copying the test patents in the test folder\n",
    "for patent_nb in test_set:\n",
    "    copytree('/Volumes/Non-Backup_Files/GB-patents/seeded_data_for_model/all/{}'.format(patent_nb), '/Volumes/Non-Backup_Files/GB-patents/seeded_data_for_model/new_test/{}'.format(patent_nb))\n",
    "    copytree('/Volumes/Non-Backup_Files/GB-patents/annotated_seeded_data_for_model/all/{}'.format(patent_nb), '/Volumes/Non-Backup_Files/GB-patents/annotated_seeded_data_for_model/new_test/{}'.format(patent_nb))  "
   ]
  },
  {
   "cell_type": "code",
   "execution_count": 175,
   "metadata": {},
   "outputs": [],
   "source": [
    "#copying the train patents in the train folder\n",
    "for patent_nb in train_set:\n",
    "    copytree('/Volumes/Non-Backup_Files/GB-patents/seeded_data_for_model/all/{}'.format(patent_nb), '/Volumes/Non-Backup_Files/GB-patents/seeded_data_for_model/new_train/{}'.format(patent_nb))\n",
    "    copytree('/Volumes/Non-Backup_Files/GB-patents/annotated_seeded_data_for_model/all/{}'.format(patent_nb), '/Volumes/Non-Backup_Files/GB-patents/annotated_seeded_data_for_model/new_train/{}'.format(patent_nb))    "
   ]
  },
  {
   "cell_type": "markdown",
   "metadata": {},
   "source": [
    "# DEPRECATED"
   ]
  },
  {
   "cell_type": "code",
   "execution_count": 14,
   "metadata": {},
   "outputs": [],
   "source": [
    "# DEPRECATED (OLD WAY OF GETTING TEST AND TRAIN SPLIT, IT IS DONE IN NOTEBOOK \"Dataset Creation for Detectron2.ipynb\")\n",
    "\n",
    "#getting old train/test sets (these mixed all patents i.e. images of given patent could be split between test and train set)\n",
    "with open('/Volumes/Non-Backup_Files/GB-patents/json/local/coco/test_data_reduced.json', 'r') as json_file:\n",
    "    test = json.load(json_file)\n",
    "with open('/Volumes/Non-Backup_Files/GB-patents/json/local/coco/train_data_reduced.json', 'r') as json_file:\n",
    "    train = json.load(json_file)"
   ]
  },
  {
   "cell_type": "code",
   "execution_count": 47,
   "metadata": {},
   "outputs": [],
   "source": [
    "#examining the test and train sets as constructed in Dataset Creation for Detectron2.ipynb\n",
    "\n",
    "test_patents = set([test['images'][i]['file_name'].split('/')[-2] for i in range(len(test['images']))])\n",
    "train_patents = set([train['images'][i]['file_name'].split('/')[-2] for i in range(len(train['images']))])\n",
    "test_patent_imgs = set(['/'.join(test['images'][i]['file_name'].split('/')[-2:]).replace('.png','') for i in range(len(test['images']))])\n",
    "train_patents_imgs = set(['/'.join(train['images'][i]['file_name'].split('/')[-2:]).replace('.png','') for i in range(len(train['images']))])"
   ]
  },
  {
   "cell_type": "code",
   "execution_count": 49,
   "metadata": {},
   "outputs": [
    {
     "data": {
      "text/plain": [
       "True"
      ]
     },
     "execution_count": 49,
     "metadata": {},
     "output_type": "execute_result"
    }
   ],
   "source": [
    "len(train_patents_imgs) == int(0.7 * (len(train_patents_imgs) + len(test_patent_imgs)))"
   ]
  },
  {
   "cell_type": "code",
   "execution_count": 54,
   "metadata": {},
   "outputs": [
    {
     "data": {
      "text/plain": [
       "True"
      ]
     },
     "execution_count": 54,
     "metadata": {},
     "output_type": "execute_result"
    }
   ],
   "source": [
    "'GB188511990A' in test_patents"
   ]
  },
  {
   "cell_type": "code",
   "execution_count": 50,
   "metadata": {},
   "outputs": [],
   "source": [
    "from shutil import copyfile\n",
    "from os import mkdir"
   ]
  },
  {
   "cell_type": "code",
   "execution_count": 51,
   "metadata": {},
   "outputs": [],
   "source": [
    "# CREATING PATENT FOLDERS\n",
    "for patent_name in test_patents:\n",
    "    mkdir('/Volumes/Non-Backup_Files/GB-patents/annotated_seeded_data_for_model/test/{}'.format(patent_name))\n",
    "    mkdir('/Volumes/Non-Backup_Files/GB-patents/seeded_data_for_model/test/{}'.format(patent_name))\n",
    "    \n",
    "for patent_name in train_patents:\n",
    "    mkdir('/Volumes/Non-Backup_Files/GB-patents/annotated_seeded_data_for_model/train/{}'.format(patent_name))\n",
    "    mkdir('/Volumes/Non-Backup_Files/GB-patents/seeded_data_for_model/train/{}'.format(patent_name))"
   ]
  },
  {
   "cell_type": "code",
   "execution_count": 66,
   "metadata": {},
   "outputs": [],
   "source": [
    "# COPYING ITEMS FOR TEST PATENTS\n",
    "for patent_name in test_patent_imgs:\n",
    "    try:\n",
    "        copyfile('/Volumes/Non-Backup_Files/GB-patents/annotated_seeded_data_for_model/all/{}.xml'.format(patent_name), '/Volumes/Non-Backup_Files/GB-patents/annotated_seeded_data_for_model/test/{}.xml'.format(patent_name))\n",
    "    except Exception:\n",
    "        pass\n",
    "    copyfile('/Volumes/Non-Backup_Files/GB-patents/annotated_seeded_data_for_model/all/{}.png'.format(patent_name), '/Volumes/Non-Backup_Files/GB-patents/annotated_seeded_data_for_model/test/{}.png'.format(patent_name))\n",
    "    try:\n",
    "        copyfile('/Volumes/Non-Backup_Files/GB-patents/seeded_data_for_model/all/{}.png'.format(patent_name), '/Volumes/Non-Backup_Files/GB-patents/seeded_data_for_model/test/{}.png'.format(patent_name))\n",
    "    except Exception:\n",
    "        pass"
   ]
  },
  {
   "cell_type": "code",
   "execution_count": 68,
   "metadata": {},
   "outputs": [],
   "source": [
    "# COPYING ITEMS FOR TRAIN PATENTS\n",
    "for patent_name in train_patents_imgs:\n",
    "    try:\n",
    "        copyfile('/Volumes/Non-Backup_Files/GB-patents/annotated_seeded_data_for_model/all/{}.xml'.format(patent_name), '/Volumes/Non-Backup_Files/GB-patents/annotated_seeded_data_for_model/train/{}.xml'.format(patent_name))\n",
    "    except Exception:\n",
    "        pass\n",
    "    copyfile('/Volumes/Non-Backup_Files/GB-patents/annotated_seeded_data_for_model/all/{}.png'.format(patent_name), '/Volumes/Non-Backup_Files/GB-patents/annotated_seeded_data_for_model/train/{}.png'.format(patent_name))\n",
    "    try:\n",
    "        copyfile('/Volumes/Non-Backup_Files/GB-patents/seeded_data_for_model/all/{}.png'.format(patent_name), '/Volumes/Non-Backup_Files/GB-patents/seeded_data_for_model/train/{}.png'.format(patent_name))\n",
    "    except Exception:\n",
    "        pass"
   ]
  },
  {
   "cell_type": "markdown",
   "metadata": {},
   "source": [
    "# SCRAP"
   ]
  },
  {
   "cell_type": "code",
   "execution_count": null,
   "metadata": {},
   "outputs": [],
   "source": [
    "# X_train, X_test, y_train, y_test \n",
    "#     = train_test_split(X, y, test_size=0.3, random_state=42)\n",
    "\n",
    "# X_train, X_val, y_train, y_val \n",
    "#     = train_test_split(X_train, y_train, test_size=0.33, random_state=42)"
   ]
  },
  {
   "cell_type": "code",
   "execution_count": 64,
   "metadata": {},
   "outputs": [],
   "source": [
    "pdfs_df = pd.Series(pdfs)"
   ]
  },
  {
   "cell_type": "code",
   "execution_count": 7,
   "metadata": {},
   "outputs": [],
   "source": [
    "txts = []\n",
    "for path, dirs, files in os.walk(PATH_TO_TXTS):\n",
    "    for f in files:\n",
    "        if f.endswith('txt'):\n",
    "            txts.append('{}/{}'.format(path, f))"
   ]
  },
  {
   "cell_type": "code",
   "execution_count": 8,
   "metadata": {},
   "outputs": [
    {
     "data": {
      "text/plain": [
       "'/Volumes/Non-Backup_Files/GB-patents/random_sample_seeded_txt (tesseract)/GB0725820A.txt'"
      ]
     },
     "execution_count": 8,
     "metadata": {},
     "output_type": "execute_result"
    }
   ],
   "source": [
    "txts[0]"
   ]
  }
 ],
 "metadata": {
  "kernelspec": {
   "display_name": "patentproj",
   "language": "python",
   "name": "patentproj"
  },
  "language_info": {
   "codemirror_mode": {
    "name": "ipython",
    "version": 3
   },
   "file_extension": ".py",
   "mimetype": "text/x-python",
   "name": "python",
   "nbconvert_exporter": "python",
   "pygments_lexer": "ipython3",
   "version": "3.6.12"
  }
 },
 "nbformat": 4,
 "nbformat_minor": 4
}
