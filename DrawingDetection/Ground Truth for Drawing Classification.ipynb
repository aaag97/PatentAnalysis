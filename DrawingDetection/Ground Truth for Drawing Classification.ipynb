{
 "cells": [
  {
   "cell_type": "markdown",
   "metadata": {},
   "source": [
    "This notebook constructs the ground truth for the drawing classification task of patents. Hence, it examines the ground truth data for the test set and construct a dataset of patents having an instance of the figure class (class 4)."
   ]
  },
  {
   "cell_type": "code",
   "execution_count": 49,
   "metadata": {},
   "outputs": [],
   "source": [
    "import sys\n",
    "sys.path.insert(1, '../')\n",
    "import xmltodict\n",
    "import pprint\n",
    "import json\n",
    "import os\n",
    "from PIL import Image\n",
    "from detectron2.structures import BoxMode"
   ]
  },
  {
   "cell_type": "code",
   "execution_count": 50,
   "metadata": {},
   "outputs": [],
   "source": [
    "#dictionnaries for classes\n",
    "class_dict = {0: 'text',1: 'title',2: 'list', 3: 'table', 4: 'figure', 5: 'sigil'}\n",
    "reverse_class_dict = {v:k for k, v in class_dict.items()}"
   ]
  },
  {
   "cell_type": "code",
   "execution_count": 51,
   "metadata": {},
   "outputs": [],
   "source": [
    "#getting the xmls containing the ground truth\n",
    "PATH_TO_XMLS = '/Volumes/Non-Backup_Files/GB-patents/annotated_seeded_data_for_model/new_test'\n",
    "xmls = []\n",
    "for path, dirs, files in os.walk(PATH_TO_XMLS):\n",
    "    for f in files:\n",
    "        if f.endswith('xml'):\n",
    "            xmls.append('{}/{}'.format(path, f))   "
   ]
  },
  {
   "cell_type": "code",
   "execution_count": 52,
   "metadata": {},
   "outputs": [],
   "source": [
    "#constructing the dataset of patents which have figures for the test set\n",
    "test_patents_with_images = set()\n",
    "for xml_file in xmls:\n",
    "    with open(xml_file) as file:\n",
    "        doc = xmltodict.parse(file.read())\n",
    "    if isinstance(doc['annotation']['object'], list):\n",
    "        for i in range(len(doc['annotation']['object'])):\n",
    "            if reverse_class_dict[doc['annotation']['object'][i]['name']] == 4:\n",
    "                test_patents_with_images.add(xml_file.split('/')[-2])\n",
    "    else:\n",
    "        if reverse_class_dict[doc['annotation']['object']['name']] == 4:\n",
    "            test_patents_with_images.add(xml_file.split('/')[-2])"
   ]
  },
  {
   "cell_type": "code",
   "execution_count": 53,
   "metadata": {},
   "outputs": [
    {
     "data": {
      "text/plain": [
       "434"
      ]
     },
     "execution_count": 53,
     "metadata": {},
     "output_type": "execute_result"
    }
   ],
   "source": [
    "len(test_patents_with_images)"
   ]
  },
  {
   "cell_type": "code",
   "execution_count": 54,
   "metadata": {},
   "outputs": [],
   "source": [
    "#constructing the dataset of patents which have figures for the train set\n",
    "PATH_TO_XMLS = '/Volumes/Non-Backup_Files/GB-patents/annotated_seeded_data_for_model/new_train'\n",
    "xmls = []\n",
    "for path, dirs, files in os.walk(PATH_TO_XMLS):\n",
    "    for f in files:\n",
    "        if f.endswith('xml'):\n",
    "            xmls.append('{}/{}'.format(path, f))"
   ]
  },
  {
   "cell_type": "code",
   "execution_count": 55,
   "metadata": {},
   "outputs": [],
   "source": [
    "train_patents_with_images = set()\n",
    "for xml_file in xmls:\n",
    "    with open(xml_file) as file:\n",
    "        doc = xmltodict.parse(file.read())\n",
    "    if isinstance(doc['annotation']['object'], list):\n",
    "        for i in range(len(doc['annotation']['object'])):\n",
    "            if reverse_class_dict[doc['annotation']['object'][i]['name']] == 4:\n",
    "                train_patents_with_images.add(xml_file.split('/')[-2])\n",
    "    else:\n",
    "        if reverse_class_dict[doc['annotation']['object']['name']] == 4:\n",
    "            train_patents_with_images.add(xml_file.split('/')[-2])"
   ]
  },
  {
   "cell_type": "code",
   "execution_count": 56,
   "metadata": {},
   "outputs": [
    {
     "data": {
      "text/plain": [
       "844"
      ]
     },
     "execution_count": 56,
     "metadata": {},
     "output_type": "execute_result"
    }
   ],
   "source": [
    "len(train_patents_with_images)"
   ]
  },
  {
   "cell_type": "code",
   "execution_count": 57,
   "metadata": {},
   "outputs": [],
   "source": [
    "#saving the resulting datasets as text files\n",
    "with open('lists_of_patents_with_figures/ground_truth/new_test.txt', 'w') as f:\n",
    "    for item in test_patents_with_images:\n",
    "        f.write(\"%s\\n\" % item)\n",
    "with open('lists_of_patents_with_figures/ground_truth/new_train.txt', 'w') as f:\n",
    "    for item in train_patents_with_images:\n",
    "        f.write(\"%s\\n\" % item)"
   ]
  }
 ],
 "metadata": {
  "kernelspec": {
   "display_name": "patentproj",
   "language": "python",
   "name": "patentproj"
  },
  "language_info": {
   "codemirror_mode": {
    "name": "ipython",
    "version": 3
   },
   "file_extension": ".py",
   "mimetype": "text/x-python",
   "name": "python",
   "nbconvert_exporter": "python",
   "pygments_lexer": "ipython3",
   "version": "3.6.12"
  }
 },
 "nbformat": 4,
 "nbformat_minor": 4
}
